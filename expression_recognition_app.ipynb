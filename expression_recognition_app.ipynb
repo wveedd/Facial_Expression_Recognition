{
 "cells": [
  {
   "cell_type": "code",
   "execution_count": 1,
   "id": "86749af0",
   "metadata": {},
   "outputs": [],
   "source": [
    "import tkinter as tk \n",
    "from tkinter import filedialog, Text\n",
    "import os \n",
    "from tkinter.font import Font"
   ]
  },
  {
   "cell_type": "code",
   "execution_count": 10,
   "id": "922144a6",
   "metadata": {},
   "outputs": [],
   "source": [
    "root = tk.Tk()\n",
    "# def open_fil1():\n",
    "#     open(Body language)\n",
    "root.title(\"BODY LANGUAGE DECODER\")\n",
    "\n",
    "canvas = tk.Canvas(root, height=1000, width= 1400, bg=\"#263D42\")   #1000*1400\n",
    "canvas.pack()\n",
    "\n",
    "frame = tk.Frame(root, bg=\"white\")\n",
    "frame.place(relwidth=0.8, relheight=0.8,relx=0.1,rely=0.1)\n",
    "\n",
    "dpu = tk.Label(frame, text=\"D.Y. PATIL UNIVERSITY\",bg=\"white\", fg=\"black\", font=\"Times 40 bold\")\n",
    "dpu.pack()\n",
    "\n",
    "sp1 = tk.Label(frame, text=\" \",bg=\"white\", fg=\"black\", font=\"Times 1 bold\")\n",
    "sp1.pack()\n",
    "\n",
    "sch = tk.Label(frame, text=\"SCHOOL OF ENGINEERING & TECHNOLOGY\",bg=\"white\", fg=\"black\", font=\"Times 24 bold\")\n",
    "sch.pack()\n",
    "\n",
    "sp2 = tk.Label(frame, text=\" \",bg=\"white\", fg=\"black\", font=\"Times 1 bold\")\n",
    "sp2.pack()\n",
    "\n",
    "prtit = tk.Label(frame, text=\"PROJECT TITLE:- EXPRESSION RECOGNIZING USING \\n\"\n",
    "                  \"OPEN CV, MEDIA PIPE & SCIKIT LEARN \",bg=\"white\", fg=\"black\", font=\"Times 24 bold\")\n",
    "prtit.pack()\n",
    "\n",
    "sp3 = tk.Label(frame, text=\" \",bg=\"white\", fg=\"black\", font=\"Times 1 bold\")\n",
    "sp3.pack()\n",
    "\n",
    "mena = tk.Label(frame, text=\"GROUP MEMBERS:-\\n\" \n",
    "                    \"1] VEDANT SHARMA  \\n\"\n",
    "                    \"2] VISHNU JAYAKUMAR \\n\"\n",
    "                    \"3] SOHAIL PATHAN \\n\",bg=\"white\", fg=\"black\", font=\"Times 24 bold\")\n",
    "mena.pack()\n",
    "\n",
    "def run_program():\n",
    "    my_prgm = filedialog.askopenfilename()\n",
    "    my_prgm.configure(text=my_prgm)\n",
    "#     open the program\n",
    "    os.system('\"%s\"' %my_prgm)\n",
    "\n",
    "ENTER = tk.Button(frame, text=\"ENTER\", bg = 'blue', fg=\"yellow\", height=1, width=10, font=\"Times 24 bold\" ,command = run_program)\n",
    "ENTER.place(relx = 0.5, rely = 0.9, anchor= \"center\")\n",
    "\n",
    "my_prgm = tk.Label(frame,text=\" \")\n",
    "my_prgm.pack()\n",
    "    \n",
    "root.mainloop()"
   ]
  },
  {
   "cell_type": "code",
   "execution_count": 5,
   "id": "018d6bb5",
   "metadata": {},
   "outputs": [],
   "source": [
    "# root = WINDOW ON  WHICH THE GUI WILL RUN \n",
    "# root.title = name of the window\n",
    "# canvas = background of the window \n",
    "# frame = workable space in side the window \n",
    "# [variable= tk.Label] = label to write your text \n",
    "# text = editable text \n",
    "# bg = background color \n",
    "# fg = text color\n",
    "# font = \"name of font, font size, style\"\n",
    "# sp1,sp2,sp3 = spaces between lines \n",
    "# prtit = project title\n",
    "# mena = group members \n",
    "# ENTER = tk.Button(position, text, bg, fg, height, width, font)\n",
    "#     height = height of button \n",
    "#     width = width of button\n",
    "# ENTER.place = for position of the button \n",
    "#     relx, rely = Horizontal and vertical offset as a float between 0.0 and 1.0 \n",
    "#     anchor = The exact spot of widget\n"
   ]
  },
  {
   "cell_type": "code",
   "execution_count": 86,
   "id": "9d1b1996",
   "metadata": {},
   "outputs": [],
   "source": []
  },
  {
   "cell_type": "code",
   "execution_count": 87,
   "id": "e5ef657c",
   "metadata": {},
   "outputs": [],
   "source": []
  },
  {
   "cell_type": "code",
   "execution_count": 88,
   "id": "1e308bca",
   "metadata": {},
   "outputs": [],
   "source": []
  },
  {
   "cell_type": "code",
   "execution_count": null,
   "id": "d48937db",
   "metadata": {
    "scrolled": true
   },
   "outputs": [],
   "source": []
  },
  {
   "cell_type": "code",
   "execution_count": null,
   "id": "a81b240c",
   "metadata": {},
   "outputs": [],
   "source": []
  },
  {
   "cell_type": "code",
   "execution_count": null,
   "id": "eaff8210",
   "metadata": {},
   "outputs": [],
   "source": []
  }
 ],
 "metadata": {
  "kernelspec": {
   "display_name": "Python 3 (ipykernel)",
   "language": "python",
   "name": "python3"
  },
  "language_info": {
   "codemirror_mode": {
    "name": "ipython",
    "version": 3
   },
   "file_extension": ".py",
   "mimetype": "text/x-python",
   "name": "python",
   "nbconvert_exporter": "python",
   "pygments_lexer": "ipython3",
   "version": "3.9.7"
  },
  "vscode": {
   "interpreter": {
    "hash": "2a8dfe095fce2b5e88c64a2c3ee084c8e0e0d70b23e7b95b1cfb538be294c5c8"
   }
  }
 },
 "nbformat": 4,
 "nbformat_minor": 5
}
